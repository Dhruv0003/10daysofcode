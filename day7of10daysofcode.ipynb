{
 "cells": [
  {
   "cell_type": "code",
   "execution_count": null,
   "metadata": {},
   "outputs": [],
   "source": [
    "#Python Program to Find the Union of two Lists\n",
    "\n",
    "\n",
    "def Union(lst1, lst2, lst3): \n",
    "    final_list = list(set().union(lst1, lst2, lst3)) \n",
    "    return final_list \n",
    "\n",
    "list1 = [23, 15, 2, 14, 14, 16, 20 ,52] \n",
    "list2 = [2, 48, 15, 12, 26, 32, 47, 54] \n",
    "list3 = [4, 78, 5, 6, 9, 25, 64, 32, 59] \n",
    "\n",
    "print(Union(lst1, lst2, lst3)) "
   ]
  },
  {
   "cell_type": "code",
   "execution_count": null,
   "metadata": {},
   "outputs": [],
   "source": [
    "import pandas as pd \n",
    "\n",
    "# List1 \n",
    "Name = ['tom', 'krish', 'nick', 'juli'] \n",
    "\n",
    "# List2 \n",
    "Age = [25, 30, 26, 22] \n",
    "\n",
    "# get the list of tuples from two lists. \n",
    "# and merge them by using zip(). \n",
    "list_of_tuples = list(zip(Name, Age)) \n",
    "\n",
    "# Assign data to tuples. \n",
    "list_of_tuples \n"
   ]
  },
  {
   "cell_type": "code",
   "execution_count": null,
   "metadata": {},
   "outputs": [],
   "source": [
    "#Python Program to Sort a List According to the Length of the Elements\n",
    "\n",
    "\n",
    "def intersection(a, b):\n",
    "    return list(set(a) & set(b))\n",
    "\n",
    "list1 = [23, 15, 2, 14, 14, 16, 20 ,52]\n",
    "list2 = [2, 48, 15, 12, 26, 32, 47, 54]\n",
    "\n",
    "print(intersection(list1,list2))"
   ]
  },
  {
   "cell_type": "code",
   "execution_count": null,
   "metadata": {
    "scrolled": true
   },
   "outputs": [],
   "source": [
    "#Python Program to Create a List of Tuples with the First Element as the Number and Second\n",
    "\n",
    "a=[(x,x**2) for x in range(0,6)]\n",
    "print(a)"
   ]
  },
  {
   "cell_type": "code",
   "execution_count": null,
   "metadata": {
    "scrolled": true
   },
   "outputs": [],
   "source": [
    "#Python Program to Find all Numbers in a Range which are Perfect Squares and Sum of all Digits in the Number is Less than 10\n",
    "\n",
    "start = 10 \n",
    "end   = 200\n",
    "\n",
    "for x in range(start,end):\n",
    "    if (int(x**0.5))**2==x and sum(list(map(int,str(x))))<10:\n",
    "        print(x)\n",
    "        "
   ]
  },
  {
   "cell_type": "code",
   "execution_count": null,
   "metadata": {},
   "outputs": [],
   "source": [
    "#Python Program to Find the Cumulative Sum of a List where the ith Element is the Sum of the First i+1 Elements From The Original List\n",
    "b = [23, 56, 67, 10]\n",
    "s = 0\n",
    "d = []\n",
    "\n",
    "for x in b:\n",
    "    s = s + x\n",
    "    d.append(s)\n",
    "    \n",
    "    \n",
    "print(d)"
   ]
  },
  {
   "cell_type": "code",
   "execution_count": 2,
   "metadata": {
    "scrolled": true
   },
   "outputs": [
    {
     "name": "stdout",
     "output_type": "stream",
     "text": [
      "Enter the number of elements in list:4\n",
      "Enter element1:23\n",
      "Enter element2:56\n",
      "Enter element3:67\n",
      "Enter element4:10\n",
      "The original list is:  [23, 56, 67, 10]\n",
      "The new list is:  [23, 79, 146, 156]\n"
     ]
    }
   ],
   "source": [
    "a=[]\n",
    "n= int(input(\"Enter the number of elements in list:\"))\n",
    "for x in range(0,n):\n",
    "    element=int(input(\"Enter element\" + str(x+1) + \":\"))\n",
    "    a.append(element)\n",
    "    \n",
    "b = [sum(a[0:x+1]) for x in range(0,len(a))]\n",
    "print(\"The original list is: \",a)\n",
    "print(\"The new list is: \",b)"
   ]
  },
  {
   "cell_type": "code",
   "execution_count": 7,
   "metadata": {
    "scrolled": true
   },
   "outputs": [
    {
     "name": "stdout",
     "output_type": "stream",
     "text": [
      "0\n",
      "23\n",
      "1\n",
      "79\n",
      "2\n",
      "146\n",
      "3\n",
      "156\n"
     ]
    }
   ],
   "source": [
    "b = [23, 56, 67, 10]\n",
    "\n",
    "for x in range(0,len(b)):\n",
    "    print(x)\n",
    "    print(sum(b[0:x+1]))\n",
    "    "
   ]
  },
  {
   "cell_type": "code",
   "execution_count": 9,
   "metadata": {
    "scrolled": true
   },
   "outputs": [
    {
     "name": "stdout",
     "output_type": "stream",
     "text": [
      "3\n"
     ]
    }
   ],
   "source": [
    "import random\n",
    "\n",
    "print(random.randint(1, 9))"
   ]
  },
  {
   "cell_type": "code",
   "execution_count": 11,
   "metadata": {},
   "outputs": [],
   "source": [
    "#Python Program to Generate Random Numbers from 1 to 20 and Append Them to the List\n",
    "\n",
    "b = [23, 56, 67, 10]\n",
    "\n",
    "l = random.randint(1, 9)\n",
    "b.append(l)"
   ]
  },
  {
   "cell_type": "code",
   "execution_count": 12,
   "metadata": {
    "scrolled": true
   },
   "outputs": [
    {
     "name": "stdout",
     "output_type": "stream",
     "text": [
      "[23, 56, 67, 10, 5]\n"
     ]
    }
   ],
   "source": [
    "print(b)"
   ]
  },
  {
   "cell_type": "code",
   "execution_count": 19,
   "metadata": {},
   "outputs": [
    {
     "name": "stdout",
     "output_type": "stream",
     "text": [
      "Sorted:\n",
      "[('Rohan', 89), ('Dhruv', 90), ('Sumit', 99), ('kilo', 122)]\n"
     ]
    }
   ],
   "source": [
    "#Python program to Sort a List of Tuples in Increasing Order by the Last Element in Each Tuple\n",
    "\n",
    "p = [(\"Rohan\",89),(\"Dhruv\",90),(\"kilo\",99),(\"Sumit\",122)]\n",
    "\n",
    "\n",
    "def last(n):\n",
    "    return n[-1]  \n",
    " \n",
    "def sort(tuples):\n",
    "    return sorted(tuples, key=last)\n",
    " \n",
    "a= [(\"Rohan\",89),(\"Dhruv\",90),(\"Sumit\",99),(\"kilo\",122)]\n",
    "print(\"Sorted:\")\n",
    "print(sort(a))"
   ]
  },
  {
   "cell_type": "code",
   "execution_count": 15,
   "metadata": {},
   "outputs": [],
   "source": [
    "#Python Program to Swap the First and Last Value of a List\n",
    "\n",
    "b = [23, 56, 67, 10]\n",
    "\n",
    "temp = b[0] \n",
    "b[0] = b[-1]\n",
    "b[-1] = temp"
   ]
  },
  {
   "cell_type": "code",
   "execution_count": 16,
   "metadata": {},
   "outputs": [
    {
     "data": {
      "text/plain": [
       "[10, 56, 67, 23]"
      ]
     },
     "execution_count": 16,
     "metadata": {},
     "output_type": "execute_result"
    }
   ],
   "source": [
    "b"
   ]
  },
  {
   "cell_type": "code",
   "execution_count": 23,
   "metadata": {},
   "outputs": [],
   "source": [
    "#Python Program to Read a List of Words and Return the Length of the Longest One\n",
    "\n",
    "\n",
    "z = [\"Good\",\"Intelligent\",\"Loop\",\"Kilo\",\"Moreover\",\"Door\"]\n",
    "\n",
    "mx = 0\n",
    "\n",
    "for x in z:\n",
    "    if len(x)>mx:\n",
    "        mx = len(x)"
   ]
  },
  {
   "cell_type": "code",
   "execution_count": 24,
   "metadata": {},
   "outputs": [
    {
     "data": {
      "text/plain": [
       "11"
      ]
     },
     "execution_count": 24,
     "metadata": {},
     "output_type": "execute_result"
    }
   ],
   "source": [
    "mx"
   ]
  },
  {
   "cell_type": "code",
   "execution_count": 27,
   "metadata": {},
   "outputs": [],
   "source": [
    "#Python Program to Remove the ith Occurrence of the Given Word in a List where Words can Repeat\n",
    "z = [\"Good\",\"Intelligent\",\"Loop\",\"Kilo\",\"Moreover\",\"Door\",\"Door\"]\n",
    "\n",
    "n = []\n",
    "\n",
    "for x in z:\n",
    "    if x not in n:\n",
    "        n.append(x)"
   ]
  },
  {
   "cell_type": "code",
   "execution_count": 28,
   "metadata": {
    "scrolled": true
   },
   "outputs": [
    {
     "data": {
      "text/plain": [
       "['Good', 'Intelligent', 'Loop', 'Kilo', 'Moreover', 'Door']"
      ]
     },
     "execution_count": 28,
     "metadata": {},
     "output_type": "execute_result"
    }
   ],
   "source": [
    "n"
   ]
  },
  {
   "cell_type": "code",
   "execution_count": 30,
   "metadata": {},
   "outputs": [
    {
     "data": {
      "text/plain": [
       "['Moreover', 'Loop', 'Door', 'Intelligent', 'Kilo', 'Good']"
      ]
     },
     "execution_count": 30,
     "metadata": {},
     "output_type": "execute_result"
    }
   ],
   "source": [
    "#Python Program to Remove the ith Occurrence of the Given Word in a List where Words can Repeat\n",
    "\n",
    "list(set(z)) #very short method"
   ]
  }
 ],
 "metadata": {
  "kernelspec": {
   "display_name": "Python 3",
   "language": "python",
   "name": "python3"
  },
  "language_info": {
   "codemirror_mode": {
    "name": "ipython",
    "version": 3
   },
   "file_extension": ".py",
   "mimetype": "text/x-python",
   "name": "python",
   "nbconvert_exporter": "python",
   "pygments_lexer": "ipython3",
   "version": "3.7.4"
  }
 },
 "nbformat": 4,
 "nbformat_minor": 2
}
