{
 "cells": [
  {
   "cell_type": "code",
   "execution_count": null,
   "metadata": {
    "scrolled": true
   },
   "outputs": [],
   "source": [
    "fname = input(\"Enter file name: \\n\")\n",
    " \n",
    "num_words = 0\n",
    " \n",
    "with open(fname, 'r') as f:\n",
    "    for line in f:\n",
    "        words = line.split()\n",
    "        num_words += len(words)\n",
    "print(\"Number of words:\")\n",
    "print(num_words)"
   ]
  },
  {
   "cell_type": "code",
   "execution_count": null,
   "metadata": {
    "scrolled": true
   },
   "outputs": [],
   "source": [
    "#Python Program to Read a String from the User and Append it into a File\n",
    "\n",
    "fname = input(\"Enter file name: \")\n",
    "file3=open(fname,\"a\")\n",
    "c=input(\"Enter string to append: \\n\");\n",
    "file3.write(\"\\n\")\n",
    "file3.write(c)\n",
    "file3.close()\n",
    "print(\"Contents of appended file:\");\n",
    "file4=open(fname,'r')\n",
    "line1=file4.readline()\n",
    "while(line1!=\"\"):\n",
    "    print(line1)\n",
    "    line1=file4.readline()    \n",
    "file4.close()"
   ]
  },
  {
   "cell_type": "code",
   "execution_count": null,
   "metadata": {
    "scrolled": true
   },
   "outputs": [],
   "source": [
    "#Python Program to Count the Occurrences of a Word in a Text File\n",
    "\n",
    "fname = input(\"Enter file name: \")\n",
    "word=input(\"Enter word to be searched:\")\n",
    "k = 0\n",
    " \n",
    "with open(fname, 'r') as f:\n",
    "    for line in f:\n",
    "        words = line.split()\n",
    "        for i in words:\n",
    "            if(i==word):\n",
    "                k=k+1\n",
    "print(\"Occurrences of the word:\")\n",
    "print(k)"
   ]
  },
  {
   "cell_type": "code",
   "execution_count": null,
   "metadata": {
    "scrolled": true
   },
   "outputs": [],
   "source": [
    "print(words)"
   ]
  },
  {
   "cell_type": "code",
   "execution_count": null,
   "metadata": {},
   "outputs": [],
   "source": [
    "#Python Program to Find the Area of a Rectangle Using Classes\n",
    "\n",
    "class Area:\n",
    "    \n",
    "    def __init__(self,a,b):\n",
    "        self.a = a\n",
    "        self.b = b\n",
    "    \n",
    "    def rectangle(self):\n",
    "        print('The area of triangle',self.a*self.b)\n",
    "    \n",
    "\n",
    "              \n",
    "              \n",
    "c= Area(9,10)\n",
    "c.rectangle()\n",
    "              \n"
   ]
  },
  {
   "cell_type": "code",
   "execution_count": null,
   "metadata": {},
   "outputs": [],
   "source": [
    "#Python Program to Append, Delete and Display Elements of a List Using Classes\n",
    "\n",
    "class list_class:\n",
    "    \n",
    "    def __init__(self):\n",
    "        self.l = []\n",
    "    \n",
    "    def add(self,a):\n",
    "        return self.l.append(a)\n",
    "    \n",
    "    def remove(self,a):\n",
    "        return self.l.pop(a)\n",
    "    \n",
    "    def dis(self):\n",
    "        return self.l\n",
    "\n",
    "\n",
    "obj = list_class() \n",
    "obj.add(9)\n",
    "obj.add(92)\n",
    "obj.add(93)\n",
    "obj.dis()\n",
    "obj1 = list_class() \n",
    "obj1.add(91)\n",
    "\n",
    "obj.dis()"
   ]
  },
  {
   "cell_type": "code",
   "execution_count": null,
   "metadata": {},
   "outputs": [],
   "source": [
    "#Python Program to Create a Class and Compute the Area and the Perimeter of the Circle\n",
    "import math\n",
    "\n",
    "class circle:\n",
    "    \n",
    "    def __init__(self,radius):\n",
    "        self.radius = radius\n",
    "    \n",
    "    def perimeter(self):\n",
    "        print('Perimeter of circle: ',math.pi*(self.radius**2))\n",
    "        \n",
    "        \n",
    "opj = circle(9)\n",
    "opj.perimeter()"
   ]
  },
  {
   "cell_type": "code",
   "execution_count": null,
   "metadata": {
    "scrolled": false
   },
   "outputs": [],
   "source": [
    "#Python Program to Create a Class which Performs Basic Calculator Operations\n",
    "\n",
    "\n",
    "class calculator:\n",
    "    \n",
    "    def __init__(self,a,b):\n",
    "        self.a = a\n",
    "        self.b = b\n",
    "    \n",
    "    def add(self):\n",
    "        print(\"Addition is : \",self.a+self.b)\n",
    "    \n",
    "    def sub(self):\n",
    "        print(\"Substraction is : \",self.a-self.b)\n",
    "    \n",
    "    def mul(self):\n",
    "        print(\"Multiplication is : \",self.a*self.b)\n",
    "    \n",
    "    def div(self):\n",
    "        print(\"Division is : \",self.a/self.b)\n",
    "        \n",
    "\n",
    "        \n",
    "        \n",
    "pop = calculator(900,100)\n",
    "\n",
    "pop.add()\n",
    "pop.sub()\n",
    "pop.mul()\n",
    "pop.div()\n",
    "\n",
    "choice = 1\n",
    "\n",
    "while choice != 0:\n",
    "    print(\"0. Exit\")\n",
    "    print(\"1. Add\")\n",
    "    print(\"2. Delete\")\n",
    "    print(\"3. Display\")\n",
    "    \n",
    "    choice=int(input(\"Enter choice: \"))\n",
    "    if choice==1:\n",
    "        print(\"Result: \",pop.add())\n",
    "    elif choice==2:\n",
    "        print(\"Result: \",pop.sub())\n",
    "    elif choice==3:\n",
    "        print(\"Result: \",pop.mul())\n",
    "    elif choice==4:\n",
    "        print(\"Result: \",round(pop.div(),2))\n",
    "    elif choice==0:\n",
    "        print(\"Exiting!\")\n",
    "    else:\n",
    "        print(\"Invalid choice!!\")"
   ]
  },
  {
   "cell_type": "code",
   "execution_count": null,
   "metadata": {
    "scrolled": true
   },
   "outputs": [],
   "source": [
    "#Python Program to Create a Class in which One Method Accepts a String from the User and Another Prints it\n",
    "\n",
    "\n",
    "class user:\n",
    "    \n",
    "    def __init__(self):\n",
    "        self.s = \"\"\n",
    "        \n",
    "    def user_input(self):\n",
    "        self.n  = input(\"Enter a string \\n\")\n",
    "        \n",
    "    def print_info(self):\n",
    "        print(\"String is \",self.n)\n",
    "        \n",
    "obj2 = user()\n",
    "obj2.user_input()\n",
    "obj2.print_info()"
   ]
  },
  {
   "cell_type": "code",
   "execution_count": null,
   "metadata": {},
   "outputs": [],
   "source": [
    "#Python program to get Current Time\n",
    "\n",
    "from datetime import datetime \n",
    "print(datetime.now())"
   ]
  },
  {
   "cell_type": "code",
   "execution_count": null,
   "metadata": {
    "scrolled": true
   },
   "outputs": [],
   "source": [
    "#Python | Find yesterday’s, today’s and tomorrow’s date\n",
    "\n",
    "\n",
    "from datetime import datetime, timedelta \n",
    "\n",
    "\n",
    "print(\"Yesterday was :\",datetime.now()-timedelta(1))\n",
    "print(\"Today is :\",datetime.now())\n",
    "print(\"Tomorrow will be :\",datetime.now()+timedelta(1))"
   ]
  },
  {
   "cell_type": "code",
   "execution_count": null,
   "metadata": {
    "scrolled": false
   },
   "outputs": [],
   "source": [
    "#=Python Program to Implement Tower of Hanoi\n",
    "def hanoi(disks, source, auxiliary, target):\n",
    "    if disks == 1:\n",
    "        print('Move disk 1 from peg {} to peg {}.'.format(source, target))\n",
    "        return\n",
    " \n",
    "    hanoi(disks - 1, source, target, auxiliary)\n",
    "    print('Move disk {} from peg {} to peg {}.'.format(disks, source, target))\n",
    "    hanoi(disks - 1, auxiliary, source, target)\n",
    " \n",
    " \n",
    "disks = int(input('Enter number of disks: '))\n",
    "hanoi(disks, 'A', 'B', 'C')"
   ]
  },
  {
   "cell_type": "code",
   "execution_count": 11,
   "metadata": {
    "scrolled": true
   },
   "outputs": [
    {
     "name": "stdout",
     "output_type": "stream",
     "text": [
      "1\n",
      "In loop\n",
      "1\n",
      "After I\n",
      "1\n",
      "4\n",
      "2\n"
     ]
    }
   ],
   "source": [
    "def smallestpositive(array, n):\n",
    "        small = 1\n",
    "        # Your code goes here  \n",
    "        array.sort()\n",
    "        for i in range(0,n):\n",
    "            print(array[i])\n",
    "            if array[i] <= small:\n",
    "                print(\"In loop\")\n",
    "                print(small)\n",
    "                print(\"After I\")\n",
    "                print(array[i])\n",
    "                small = small + array[i]\n",
    "            else:\n",
    "                 break\n",
    "        \n",
    "        return small\n",
    "    \n",
    "array = [1, 4, 8, 12, 13, 17]\n",
    "n= 6\n",
    "\n",
    "print(smallestpositive(array,n))"
   ]
  },
  {
   "cell_type": "code",
   "execution_count": null,
   "metadata": {},
   "outputs": [
    {
     "name": "stdout",
     "output_type": "stream",
     "text": [
      "Pick a number between 1 to 500\n",
      "Guess the number: secret_number\n",
      "You lose\n",
      "Guess the number: 4\n",
      "You lose\n",
      "Guess the number: secret_number\n",
      "You lose\n",
      "Guess the number: secret_number\n",
      "You lose\n",
      "Guess the number: 9\n",
      "You lose\n",
      "Guess the number: 1\n",
      "You lose\n",
      "Guess the number: 2\n",
      "You lose\n",
      "Guess the number: 3\n",
      "You lose\n",
      "Guess the number: 4\n",
      "You lose\n",
      "Guess the number: 5\n",
      "You lose\n",
      "Guess the number: 6\n",
      "You lose\n"
     ]
    }
   ],
   "source": [
    "# Python 2.x program to show Vulnerabilities \n",
    "# in input() function using a variable \n",
    "\n",
    "import random \n",
    "secret_number = random.randint(1,500) \n",
    "print(\"Pick a number between 1 to 500\")\n",
    "while True: \n",
    "\tres = input(\"Guess the number: \") \n",
    "\tif res==secret_number: \n",
    "\t\tprint(\"You win\")\n",
    "\t\tbreak\n",
    "\telse: \n",
    "\t\tprint(\"You lose\")\n",
    "\t\tcontinue\n"
   ]
  }
 ],
 "metadata": {
  "kernelspec": {
   "display_name": "Python 3",
   "language": "python",
   "name": "python3"
  },
  "language_info": {
   "codemirror_mode": {
    "name": "ipython",
    "version": 3
   },
   "file_extension": ".py",
   "mimetype": "text/x-python",
   "name": "python",
   "nbconvert_exporter": "python",
   "pygments_lexer": "ipython3",
   "version": "3.7.4"
  }
 },
 "nbformat": 4,
 "nbformat_minor": 2
}
